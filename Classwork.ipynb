{
  "nbformat": 4,
  "nbformat_minor": 0,
  "metadata": {
    "colab": {
      "provenance": [],
      "authorship_tag": "ABX9TyNM1oQRaUav8xGqjZiGE3Rc",
      "include_colab_link": true
    },
    "kernelspec": {
      "name": "python3",
      "display_name": "Python 3"
    },
    "language_info": {
      "name": "python"
    }
  },
  "cells": [
    {
      "cell_type": "markdown",
      "metadata": {
        "id": "view-in-github",
        "colab_type": "text"
      },
      "source": [
        "<a href=\"https://colab.research.google.com/github/DimaSokolov73/Homeworks/blob/main/Classwork.ipynb\" target=\"_parent\"><img src=\"https://colab.research.google.com/assets/colab-badge.svg\" alt=\"Open In Colab\"/></a>"
      ]
    },
    {
      "cell_type": "markdown",
      "source": [],
      "metadata": {
        "id": "JDlLGHqXu_fS"
      }
    },
    {
      "cell_type": "markdown",
      "source": [
        "Классная работа"
      ],
      "metadata": {
        "id": "sDdTEtqHNj13"
      }
    },
    {
      "cell_type": "markdown",
      "source": [
        "begin 9"
      ],
      "metadata": {
        "id": "M9TdCs41N2OS"
      }
    },
    {
      "cell_type": "code",
      "source": [
        "import math\n",
        "a = int (input ('a='))\n",
        "b = int (input ('b='))\n",
        "S = math.sqrt(a*b)\n",
        "print (S)"
      ],
      "metadata": {
        "id": "TfmvUwQkN52o",
        "outputId": "88ab76df-1e52-48d2-d193-3f7431ac084e",
        "colab": {
          "base_uri": "https://localhost:8080/"
        }
      },
      "execution_count": null,
      "outputs": [
        {
          "output_type": "stream",
          "name": "stdout",
          "text": [
            "a=6\n",
            "b=6\n",
            "6.0\n"
          ]
        }
      ]
    },
    {
      "cell_type": "markdown",
      "source": [
        "begin11"
      ],
      "metadata": {
        "id": "Gqdp0YNbOfh-"
      }
    },
    {
      "cell_type": "code",
      "source": [
        "a = int (input ('a='))\n",
        "b = int (input ('b='))\n",
        "S=math.fabs(a)+math.fabs(b)\n",
        "Q=math.fabs(a)-math.fabs(b)\n",
        "W=math.fabs(a)*math.fabs(b)\n",
        "R=math.fabs((a*a))/math.fabs((b*b))\n",
        "print (S,Q,W,R)"
      ],
      "metadata": {
        "id": "fZNtckccOjEF",
        "outputId": "a90a120c-f126-45c9-87c7-80b3a8a7a4d5",
        "colab": {
          "base_uri": "https://localhost:8080/"
        }
      },
      "execution_count": null,
      "outputs": [
        {
          "output_type": "stream",
          "name": "stdout",
          "text": [
            "a=-1\n",
            "b=-2\n",
            "3.0 -1.0 2.0 0.25\n"
          ]
        }
      ]
    },
    {
      "cell_type": "markdown",
      "source": [
        "begin10"
      ],
      "metadata": {
        "id": "cmgfzbFRPYUL"
      }
    },
    {
      "cell_type": "code",
      "source": [
        "import math\n",
        "a = int (input ('a='))\n",
        "b = int (input ('b='))\n",
        "S=a+b\n",
        "Q=a-b\n",
        "W=a*b\n",
        "R=(a*a)/(b*b)\n",
        "print (S,Q,W,R)"
      ],
      "metadata": {
        "id": "4Ze2d4FiPXqz"
      },
      "execution_count": null,
      "outputs": []
    },
    {
      "cell_type": "markdown",
      "source": [
        "begin12"
      ],
      "metadata": {
        "id": "Xh74RRbzQTYI"
      }
    },
    {
      "cell_type": "code",
      "source": [
        "import math\n",
        "a = int (input ('a='))\n",
        "b = int (input ('b='))\n",
        "c = math.sqrt (a**2+b**2)\n",
        "P = a+b+c\n",
        "print (c,P)"
      ],
      "metadata": {
        "id": "QdVz-8ylQV2c",
        "outputId": "7cb5d0a8-b044-459b-ec86-e52a9ea5140a",
        "colab": {
          "base_uri": "https://localhost:8080/"
        }
      },
      "execution_count": null,
      "outputs": [
        {
          "output_type": "stream",
          "name": "stdout",
          "text": [
            "a=5\n",
            "b=10\n",
            "11.180339887498949 26.18033988749895\n"
          ]
        }
      ]
    },
    {
      "cell_type": "markdown",
      "source": [
        "begin20"
      ],
      "metadata": {
        "id": "nHNGIHA2RDU9"
      }
    },
    {
      "cell_type": "code",
      "source": [
        "import math\n",
        "x1 = int (input ('x1='))\n",
        "x2 = int (input ('x2='))\n",
        "y1 = int (input ('y1='))\n",
        "y2 = int (input ('y2='))\n",
        "c = math.sqrt ((x2-x1)**2+(y2-y1)**2)\n",
        "print (c)"
      ],
      "metadata": {
        "id": "CpibGzHCROnS",
        "outputId": "4bb05b81-0515-467c-f6c9-2ffa1cfaa874",
        "colab": {
          "base_uri": "https://localhost:8080/"
        }
      },
      "execution_count": null,
      "outputs": [
        {
          "output_type": "stream",
          "name": "stdout",
          "text": [
            "x1=1\n",
            "x2=2\n",
            "y1=3\n",
            "y2=4\n",
            "1.4142135623730951\n"
          ]
        }
      ]
    },
    {
      "cell_type": "markdown",
      "source": [
        "Группа Integer"
      ],
      "metadata": {
        "id": "3ILq-NZjRuaA"
      }
    },
    {
      "cell_type": "markdown",
      "source": [
        "Integer **7**"
      ],
      "metadata": {
        "id": "dF4U2wKAR0AE"
      }
    },
    {
      "cell_type": "code",
      "source": [
        "a = int (input ('a='))\n",
        "x=a//10\n",
        "y=a%10\n",
        "w=x+y\n",
        "u=x*y\n",
        "print (w,u)"
      ],
      "metadata": {
        "id": "YeknxcluR38h",
        "outputId": "4c15a381-367c-41e6-8ec7-0a25999c4b5a",
        "colab": {
          "base_uri": "https://localhost:8080/"
        }
      },
      "execution_count": null,
      "outputs": [
        {
          "output_type": "stream",
          "name": "stdout",
          "text": [
            "a=34\n",
            "7 12\n"
          ]
        }
      ]
    },
    {
      "cell_type": "markdown",
      "source": [
        "integer 8"
      ],
      "metadata": {
        "id": "Gpo7LUHvSnMQ"
      }
    },
    {
      "cell_type": "code",
      "source": [
        "a = int (input ('a='))\n",
        "x=a//10\n",
        "y=a%10\n",
        "z=y*10+x\n",
        "print(z)"
      ],
      "metadata": {
        "id": "cL-xrg_XSymw",
        "outputId": "427b2d9a-727f-4c3b-af1f-3d33ce783266",
        "colab": {
          "base_uri": "https://localhost:8080/"
        }
      },
      "execution_count": null,
      "outputs": [
        {
          "output_type": "stream",
          "name": "stdout",
          "text": [
            "a=25\n",
            "52\n"
          ]
        }
      ]
    },
    {
      "cell_type": "markdown",
      "source": [
        "integer 14"
      ],
      "metadata": {
        "id": "dcZxppaPTS4J"
      }
    },
    {
      "cell_type": "code",
      "source": [
        "a = int (input ('a='))\n",
        "x=a//100\n",
        "y=a//10%x\n",
        "z=a%10\n",
        "v=z*100+x*10+y\n",
        "print(v)"
      ],
      "metadata": {
        "id": "MYJHAdRTTYrC",
        "outputId": "d1397c80-1420-471a-a596-b64ff8ee07ca",
        "colab": {
          "base_uri": "https://localhost:8080/"
        }
      },
      "execution_count": null,
      "outputs": [
        {
          "output_type": "stream",
          "name": "stdout",
          "text": [
            "a=548\n",
            "854\n"
          ]
        }
      ]
    },
    {
      "cell_type": "markdown",
      "source": [
        "integer 20"
      ],
      "metadata": {
        "id": "KFXDp594WUMs"
      }
    },
    {
      "cell_type": "code",
      "source": [
        "N = int (input ('N='))\n",
        "X= N//3600\n",
        "print(X)"
      ],
      "metadata": {
        "id": "HQouLquNWWLf",
        "outputId": "62a37011-d854-43f6-ad63-1d279e07bcd1",
        "colab": {
          "base_uri": "https://localhost:8080/"
        }
      },
      "execution_count": null,
      "outputs": [
        {
          "output_type": "stream",
          "name": "stdout",
          "text": [
            "N=10000\n",
            "2\n"
          ]
        }
      ]
    },
    {
      "cell_type": "markdown",
      "source": [
        "integer 27\n"
      ],
      "metadata": {
        "id": "Su-8_gILXJfL"
      }
    },
    {
      "cell_type": "code",
      "source": [
        "N = int (input ('N='))\n",
        "X = (N+6)%7\n",
        "print(X)"
      ],
      "metadata": {
        "id": "Nd5qf_ZVX7hm",
        "outputId": "24b54551-eda9-407d-a871-4e678aa37426",
        "colab": {
          "base_uri": "https://localhost:8080/"
        }
      },
      "execution_count": null,
      "outputs": [
        {
          "output_type": "stream",
          "name": "stdout",
          "text": [
            "N=25\n",
            "3\n"
          ]
        }
      ]
    },
    {
      "cell_type": "markdown",
      "source": [
        "Группа Boolean"
      ],
      "metadata": {
        "id": "nzfukDgyYhDH"
      }
    },
    {
      "cell_type": "markdown",
      "source": [
        "Boolean 3"
      ],
      "metadata": {
        "id": "E93gG_VVYkdU"
      }
    },
    {
      "cell_type": "code",
      "source": [
        "F = int (input ('F='))\n",
        "Z = F%2==0\n",
        "print (Z)"
      ],
      "metadata": {
        "id": "5K3tNhh5YtL5",
        "outputId": "73b3383c-7645-4e6e-be27-9eb4ce2ae389",
        "colab": {
          "base_uri": "https://localhost:8080/"
        }
      },
      "execution_count": null,
      "outputs": [
        {
          "output_type": "stream",
          "name": "stdout",
          "text": [
            "F=45\n",
            "False\n"
          ]
        }
      ]
    },
    {
      "cell_type": "markdown",
      "source": [
        "Boolean 7"
      ],
      "metadata": {
        "id": "XxkxI_-hZhtb"
      }
    },
    {
      "cell_type": "code",
      "source": [
        "A = int (input ('A='))\n",
        "B = int (input ('B='))\n",
        "C = int (input ('C='))\n",
        "Z = A < B and B < C\n",
        "print (Z)"
      ],
      "metadata": {
        "id": "B3xsbrTJZk-H",
        "outputId": "c5321321-74e6-4868-f66f-e0311f6c443e",
        "colab": {
          "base_uri": "https://localhost:8080/"
        }
      },
      "execution_count": null,
      "outputs": [
        {
          "output_type": "stream",
          "name": "stdout",
          "text": [
            "A=4\n",
            "B=5\n",
            "C=6\n",
            "True\n"
          ]
        }
      ]
    },
    {
      "cell_type": "markdown",
      "source": [
        "Boolean 10"
      ],
      "metadata": {
        "id": "FsIXWLewaxUO"
      }
    },
    {
      "cell_type": "code",
      "source": [
        "A = int (input ('A='))\n",
        "B = int (input ('B='))\n",
        "F = A%2==1 or B%2==1\n",
        "print (F)"
      ],
      "metadata": {
        "id": "e22D92Wxa278",
        "outputId": "90401c3b-195d-4627-b220-4cfac41e403c",
        "colab": {
          "base_uri": "https://localhost:8080/"
        }
      },
      "execution_count": null,
      "outputs": [
        {
          "output_type": "stream",
          "name": "stdout",
          "text": [
            "A=3\n",
            "B=3\n",
            "True\n"
          ]
        }
      ]
    },
    {
      "cell_type": "markdown",
      "source": [
        "Boolean 17"
      ],
      "metadata": {
        "id": "KhEFQnO9bOEp"
      }
    },
    {
      "cell_type": "code",
      "source": [
        "A = int (input ('A='))\n",
        "Z = A > 99 and A < 999 and A%2==1\n",
        "print (Z)"
      ],
      "metadata": {
        "id": "pAXMHVb7bVGr",
        "outputId": "759c6c8f-18af-4a1f-97cb-1256238020ed",
        "colab": {
          "base_uri": "https://localhost:8080/"
        }
      },
      "execution_count": null,
      "outputs": [
        {
          "output_type": "stream",
          "name": "stdout",
          "text": [
            "A=456\n",
            "False\n"
          ]
        }
      ]
    },
    {
      "cell_type": "markdown",
      "source": [
        "Boolean 30"
      ],
      "metadata": {
        "id": "Z8YL3VEndtEF"
      }
    },
    {
      "cell_type": "code",
      "source": [
        "A = int (input ('A='))\n",
        "B = int (input ('B='))\n",
        "C = int (input ('C='))\n",
        "Z = A==B==C\n",
        "print (Z)"
      ],
      "metadata": {
        "id": "Il6n0cjAdu5F",
        "outputId": "63464eae-19c5-4016-8669-1c8b15f8ac3b",
        "colab": {
          "base_uri": "https://localhost:8080/"
        }
      },
      "execution_count": null,
      "outputs": [
        {
          "output_type": "stream",
          "name": "stdout",
          "text": [
            "A=5\n",
            "B=5\n",
            "C=5\n",
            "True\n"
          ]
        }
      ]
    },
    {
      "cell_type": "markdown",
      "source": [
        "Boolean 35"
      ],
      "metadata": {
        "id": "EEAKMLl0fDyG"
      }
    },
    {
      "cell_type": "code",
      "source": [
        "x1 = int (input ('x1='))\n",
        "x2 = int (input ('x2='))\n",
        "y1 = int (input ('y1='))\n",
        "y2 = int (input ('y2='))\n",
        "Z = (x1+y1)%2==0 and (x2+y2)%2==0\n",
        "print (Z)"
      ],
      "metadata": {
        "id": "IxSkg2HefGfM",
        "outputId": "f617874c-24b5-4e45-831e-a576a8dbf774",
        "colab": {
          "base_uri": "https://localhost:8080/"
        }
      },
      "execution_count": null,
      "outputs": [
        {
          "output_type": "stream",
          "name": "stdout",
          "text": [
            "x1=3\n",
            "x2=5\n",
            "y1=1\n",
            "y2=3\n",
            "True\n"
          ]
        }
      ]
    },
    {
      "cell_type": "markdown",
      "source": [
        "Оператор if"
      ],
      "metadata": {
        "id": "AKcBQHxQj98B"
      }
    },
    {
      "cell_type": "markdown",
      "source": [
        "IF 3"
      ],
      "metadata": {
        "id": "K8Du0M4MkDCt"
      }
    },
    {
      "cell_type": "code",
      "source": [
        "A = int (input ('A='))\n",
        "if A>0:\n",
        "  A = A+2\n",
        "elif A<0:\n",
        "  A = A-2\n",
        "else:\n",
        "  A=10\n",
        "print (A)"
      ],
      "metadata": {
        "colab": {
          "base_uri": "https://localhost:8080/"
        },
        "id": "3ZMOxjkCkCcU",
        "outputId": "7a85aa01-2657-447d-acb2-1f20268ef316"
      },
      "execution_count": null,
      "outputs": [
        {
          "output_type": "stream",
          "name": "stdout",
          "text": [
            "A=0\n",
            "10\n"
          ]
        }
      ]
    },
    {
      "cell_type": "markdown",
      "source": [
        "IF 8"
      ],
      "metadata": {
        "id": "7SMGOP9AmLlY"
      }
    },
    {
      "cell_type": "code",
      "source": [
        "A = int (input ('A='))\n",
        "B = int (input ('B='))\n",
        "if A>B:\n",
        " print (A)\n",
        "else:\n",
        "  print (B)\n",
        "if A<B:\n",
        " print (A)\n",
        "else:\n",
        "  print (B)"
      ],
      "metadata": {
        "colab": {
          "base_uri": "https://localhost:8080/"
        },
        "id": "uqjriW8MmWR7",
        "outputId": "78a52e31-8925-49db-f1bd-0ab59f3bf854"
      },
      "execution_count": null,
      "outputs": [
        {
          "output_type": "stream",
          "name": "stdout",
          "text": [
            "A=8\n",
            "B=4\n",
            "8\n",
            "4\n"
          ]
        }
      ]
    },
    {
      "cell_type": "markdown",
      "source": [
        "if24"
      ],
      "metadata": {
        "id": "Fzb_7fqZoO6K"
      }
    },
    {
      "cell_type": "code",
      "source": [
        "import math\n",
        "x = float (input ('x='))\n",
        "if x>0:\n",
        " x = 2*math.sin(x)\n",
        " print (x)\n",
        "elif x<=0:\n",
        "  x = 6-x\n",
        "  print (x)\n"
      ],
      "metadata": {
        "colab": {
          "base_uri": "https://localhost:8080/"
        },
        "id": "sL93h7zSoMjY",
        "outputId": "c52f5b95-2d57-40f7-9f55-36b640e40617"
      },
      "execution_count": null,
      "outputs": [
        {
          "output_type": "stream",
          "name": "stdout",
          "text": [
            "x=-3\n",
            "9.0\n"
          ]
        }
      ]
    },
    {
      "cell_type": "markdown",
      "source": [
        "if 17"
      ],
      "metadata": {
        "id": "Z0VT5VJsqGBA"
      }
    },
    {
      "cell_type": "code",
      "source": [
        "A = float (input ('A='))\n",
        "B = float (input ('B='))\n",
        "C = float (input ('C='))\n",
        "if A<B and B<C:\n",
        "  print (A*2,B*2,C*2)\n",
        "else:\n",
        "  print (-A,-B,-C)"
      ],
      "metadata": {
        "colab": {
          "base_uri": "https://localhost:8080/"
        },
        "id": "DHgPm3vcqNSn",
        "outputId": "17a8facf-0bf0-4556-fd7c-cd2d5a08a06b"
      },
      "execution_count": null,
      "outputs": [
        {
          "output_type": "stream",
          "name": "stdout",
          "text": [
            "A=4\n",
            "B=5\n",
            "C=6\n",
            "8.0 10.0 12.0\n"
          ]
        }
      ]
    },
    {
      "cell_type": "markdown",
      "source": [
        "IF 28"
      ],
      "metadata": {
        "id": "a8YfWgICsCza"
      }
    },
    {
      "cell_type": "code",
      "source": [
        "x = int(input('x='))\n",
        "y=0\n",
        "if x%100==0 and x%400!=0:\n",
        "  y=x\n",
        "if x%4==0 and y!=x:\n",
        "  print (\"високосный год\")\n",
        "else:\n",
        "  print (\"невисокосный год\")"
      ],
      "metadata": {
        "colab": {
          "base_uri": "https://localhost:8080/"
        },
        "id": "F3KwFiV3sN8v",
        "outputId": "9f2335ce-3d80-4159-ad4c-2afce9223549"
      },
      "execution_count": 34,
      "outputs": [
        {
          "output_type": "stream",
          "name": "stdout",
          "text": [
            "x=1900\n",
            "невисокосный год\n"
          ]
        }
      ]
    },
    {
      "cell_type": "markdown",
      "source": [
        "Группа for"
      ],
      "metadata": {
        "id": "agSJfiwdycid"
      }
    },
    {
      "cell_type": "markdown",
      "source": [
        "For 1\n",
        "![image.png](data:image/png;base64,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)"
      ],
      "metadata": {
        "id": "yiAKaG-Byf3Q"
      }
    },
    {
      "cell_type": "code",
      "source": [
        "K = int (input ('K='))\n",
        "N = int (input ('N='))\n",
        "for i in range (1,N+1):\n",
        "  print (K)"
      ],
      "metadata": {
        "colab": {
          "base_uri": "https://localhost:8080/"
        },
        "id": "4BQdRCMFyi4f",
        "outputId": "32f40f7e-1018-44e6-c38d-cef6662ddd11"
      },
      "execution_count": null,
      "outputs": [
        {
          "output_type": "stream",
          "name": "stdout",
          "text": [
            "K=5\n",
            "N=5\n",
            "5\n",
            "5\n",
            "5\n",
            "5\n",
            "5\n"
          ]
        }
      ]
    },
    {
      "cell_type": "markdown",
      "source": [
        "for 6\n",
        "![image.png](data:image/png;base64,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)"
      ],
      "metadata": {
        "id": "X7Yxyjdx1mso"
      }
    },
    {
      "cell_type": "code",
      "source": [
        "N = float(input(\"Введите цену за 1 кг конфет: \"))\n",
        "calculate_candy_cost(N)\n",
        "def calculate_candy_cost(N):\n",
        "    K = [1.2, 1.4, 1.6, 1.8, 2.0]\n",
        "    for weight in K:\n",
        "        cost = weight * N\n",
        "        print(f\"Стоимость {weight} кг конфет: {cost:.2f} рублей\")"
      ],
      "metadata": {
        "colab": {
          "base_uri": "https://localhost:8080/"
        },
        "id": "kc1PSQmj1oBZ",
        "outputId": "9f557249-0375-44a7-d346-ecd5f729ca03"
      },
      "execution_count": 35,
      "outputs": [
        {
          "output_type": "stream",
          "name": "stdout",
          "text": [
            "Введите цену за 1 кг конфет: 10\n",
            "Стоимость 1.2 кг конфет: 12.00 рублей\n",
            "Стоимость 1.4 кг конфет: 14.00 рублей\n",
            "Стоимость 1.6 кг конфет: 16.00 рублей\n",
            "Стоимость 1.8 кг конфет: 18.00 рублей\n",
            "Стоимость 2.0 кг конфет: 20.00 рублей\n"
          ]
        }
      ]
    },
    {
      "cell_type": "markdown",
      "source": [
        "for 8\n",
        "![image.png](data:image/png;base64,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)"
      ],
      "metadata": {
        "id": "1Aw_XCFB2HaO"
      }
    },
    {
      "cell_type": "code",
      "source": [
        "A = int(input(\"Введите число A: \"))\n",
        "B = int(input(\"Введите число B: \"))\n",
        "def calculate_product(A, B):\n",
        "    product = 1\n",
        "    for number in range(A, B + 1):\n",
        "        product *= number\n",
        "    return product\n",
        "\n",
        "if A < B:\n",
        "    result = calculate_product(A, B)\n",
        "    print(f\"Произведение всех целых чисел от {A} до {B} включительно: {result}\")\n",
        "else:\n",
        "    print(\"Число A должно быть меньше числа B.\")"
      ],
      "metadata": {
        "id": "LeDcEv522JlX",
        "outputId": "8d2519d6-87ce-410d-f5db-2b622505ef88",
        "colab": {
          "base_uri": "https://localhost:8080/"
        }
      },
      "execution_count": 32,
      "outputs": [
        {
          "output_type": "stream",
          "name": "stdout",
          "text": [
            "Введите число A: 5\n",
            "Введите число B: 3\n",
            "Число A должно быть меньше числа B.\n"
          ]
        }
      ]
    },
    {
      "cell_type": "markdown",
      "source": [
        "for 16\n",
        "![image.png](data:image/png;base64,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)"
      ],
      "metadata": {
        "id": "H-vf2Zyw5n4B"
      }
    },
    {
      "cell_type": "code",
      "source": [
        "A = float (input(\"A= \"))\n",
        "N = int (input('N='))\n",
        "for i in range(1, N + 1):\n",
        " K=A**i\n",
        " print (K)\n",
        "if N > 0:\n",
        "    print (\"ok\")\n",
        "else:\n",
        "    print (\"Число N должно быть больше 0.\")"
      ],
      "metadata": {
        "colab": {
          "base_uri": "https://localhost:8080/"
        },
        "id": "_RcaXRAD5pES",
        "outputId": "b0f45d0e-2f73-4ab8-9013-9ba243fda931"
      },
      "execution_count": 51,
      "outputs": [
        {
          "output_type": "stream",
          "name": "stdout",
          "text": [
            "A= 5\n",
            "N=3\n",
            "5.0\n",
            "25.0\n",
            "125.0\n",
            "ok\n"
          ]
        }
      ]
    },
    {
      "cell_type": "markdown",
      "source": [
        "for 39\n",
        "![image.png](data:image/png;base64,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)"
      ],
      "metadata": {
        "id": "HBmO7aV_6QII"
      }
    },
    {
      "cell_type": "code",
      "source": [
        "A = int(input(\"A= \"))\n",
        "B = int(input(\"B= \"))\n",
        "if A < B:\n",
        "    for i in range(A, B + 1):\n",
        "        print(i * f\"{i} \")\n",
        "else:\n",
        "    print(\"Число A должно быть меньше числа B.\")"
      ],
      "metadata": {
        "id": "Frki39Wi61ZD",
        "outputId": "a0e65d81-e9f2-4968-84e8-ff6a931014aa",
        "colab": {
          "base_uri": "https://localhost:8080/"
        }
      },
      "execution_count": 53,
      "outputs": [
        {
          "output_type": "stream",
          "name": "stdout",
          "text": [
            "Введите число A: 2\n",
            "Введите число B: 5\n",
            "2 2 \n",
            "3 3 3 \n",
            "4 4 4 4 \n",
            "5 5 5 5 5 \n"
          ]
        }
      ]
    },
    {
      "cell_type": "markdown",
      "source": [
        "Группа while"
      ],
      "metadata": {
        "id": "_Tho9Ocu7jEJ"
      }
    },
    {
      "cell_type": "markdown",
      "source": [
        "![image.png](data:image/png;base64,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)"
      ],
      "metadata": {
        "id": "DyhvQ6MzAN_S"
      }
    },
    {
      "cell_type": "code",
      "source": [
        "N = int(input(\"Введите целое число N (N > 1): \"))\n",
        "K = 0\n",
        "while 3**K <= N:\n",
        "      K = K + 1\n",
        "print(K)"
      ],
      "metadata": {
        "id": "iM1rOjLO7mPL",
        "outputId": "efd1f88d-39dc-48d0-c8ee-082dd7f86b11",
        "colab": {
          "base_uri": "https://localhost:8080/"
        }
      },
      "execution_count": 120,
      "outputs": [
        {
          "output_type": "stream",
          "name": "stdout",
          "text": [
            "Введите целое число N (N > 1): 10\n",
            "3\n"
          ]
        }
      ]
    },
    {
      "cell_type": "markdown",
      "source": [
        "![image.png](data:image/png;base64,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)"
      ],
      "metadata": {
        "id": "jhkxs4kxA3tS"
      }
    },
    {
      "cell_type": "code",
      "source": [
        "N = int(input(\"Введите целое число N (N > 1): \"))\n",
        "K = 0\n",
        "S = 0\n",
        "while S + (K + 1) <= N:\n",
        "        K = K + 1\n",
        "        S = S + K\n",
        "print(K)\n",
        "print(S)"
      ],
      "metadata": {
        "id": "I5SlHTkkBHbg",
        "outputId": "bf27591b-cb74-4479-b161-d48a0bd427f1",
        "colab": {
          "base_uri": "https://localhost:8080/"
        }
      },
      "execution_count": 123,
      "outputs": [
        {
          "output_type": "stream",
          "name": "stdout",
          "text": [
            "Введите целое число N (N > 1): 5\n",
            "2\n",
            "3\n"
          ]
        }
      ]
    },
    {
      "cell_type": "markdown",
      "source": [
        "16 ![image.png](data:image/png;base64,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)"
      ],
      "metadata": {
        "id": "XsKcEhjHCcyn"
      }
    },
    {
      "cell_type": "code",
      "source": [
        "P = float(input(\"Введите процент увеличения длины пробега (0 < P < 50): \"))\n",
        "S = 10\n",
        "Z = 0\n",
        "N = 0\n",
        "while Z <= 200:\n",
        "        Z = Z + S\n",
        "        N = N + 1\n",
        "        S = S * (1 + P / 100)\n",
        "print (Z)\n",
        "print (K)"
      ],
      "metadata": {
        "id": "vr2gOmisCdZo",
        "outputId": "7e573c3e-4754-44dd-e104-869766356ee6",
        "colab": {
          "base_uri": "https://localhost:8080/"
        }
      },
      "execution_count": 127,
      "outputs": [
        {
          "output_type": "stream",
          "name": "stdout",
          "text": [
            "Введите процент увеличения длины пробега (0 < P < 50): 10\n",
            "213.84283767210007\n",
            "12\n"
          ]
        }
      ]
    }
  ]
}